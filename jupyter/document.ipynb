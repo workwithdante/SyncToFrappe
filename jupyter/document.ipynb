{
 "cells": [
  {
   "cell_type": "code",
   "execution_count": 4,
   "metadata": {},
   "outputs": [],
   "source": [
    "import frappe\n",
    "\n",
    "frappe.init(site='development.localhost', sites_path='/workspace/development/frappe-bench/sites')\n",
    "frappe.connect()\n",
    "frappe.local.lang = frappe.db.get_default('lang')\n",
    "frappe.db.connect()"
   ]
  },
  {
   "cell_type": "code",
   "execution_count": 66,
   "metadata": {},
   "outputs": [],
   "source": [
    "from frappe.utils import nowdate\n",
    "\n",
    "sales_order_items = [\n",
    "    {\n",
    "        \"item_code\": \"BS\",\n",
    "        \"qty\": 2,\n",
    "        \"rate\": 100.0,\n",
    "        \"warehouse\": \"Stores - MC\"\n",
    "    },\n",
    "]\n",
    "    \n",
    "doc = frappe.get_doc({\n",
    "    \"doctype\": \"Sales Order\",\n",
    "    \"company\": frappe.defaults.get_defaults().get('company'),\n",
    "    \"currency\": \"USD\",\n",
    "    'conversion_rate': 1.0, \n",
    "    \"selling_price_list\": \"Standard Selling\",\n",
    "    \"price_list_currency\": \"USD\",\n",
    "    \"delivery_date\": nowdate(),\n",
    "    'transaction_date': nowdate(),\n",
    "    \"items\": sales_order_items,\n",
    "    'customer': 'DANIEL CABA'\n",
    "})"
   ]
  },
  {
   "cell_type": "code",
   "execution_count": 82,
   "metadata": {},
   "outputs": [],
   "source": [
    "doc_data_custom = {\n",
    "    'custom_ffm_app_id': '',\n",
    "    'custom_subscriber_id': '',\n",
    "    'custom_plan_hios_id': '49004FL0010007',\n",
    "    'custom_plan_name': 'Focused Silver',\n",
    "    'custom_sales_person': 'XIMENA CUENCA',\n",
    "    'custom_sales_date': '2024-12-10',\n",
    "    'custom_digitizer': '',\n",
    "    'custom_digitizer_date': None,\n",
    "}\n",
    "doc_data = {\n",
    "    'doctype': 'Sales Order',\n",
    "    'company': 'Mabe Center',\n",
    "    'currency': 'USD',\n",
    "    'conversion_rate': 1.0,\n",
    "    'selling_price_list': 'Standard Selling',\n",
    "    'price_list_currency': 'USD',\n",
    "    'delivery_date': '2025-01-01',\n",
    "    'transaction_date': '2025-01-01',\n",
    "    \"items\": sales_order_items,\n",
    "    'customer_name': 'ASTRIT PAGAN ROSARIO'\n",
    "}\n",
    "\n",
    "doc = frappe.get_doc(doc_data)"
   ]
  },
  {
   "cell_type": "code",
   "execution_count": 83,
   "metadata": {},
   "outputs": [],
   "source": [
    "doc.validate()"
   ]
  },
  {
   "cell_type": "code",
   "execution_count": 61,
   "metadata": {},
   "outputs": [],
   "source": [
    "doc.insert()\n",
    "frappe.db.commit()\n"
   ]
  }
 ],
 "metadata": {
  "kernelspec": {
   "display_name": "env",
   "language": "python",
   "name": "python3"
  },
  "language_info": {
   "codemirror_mode": {
    "name": "ipython",
    "version": 3
   },
   "file_extension": ".py",
   "mimetype": "text/x-python",
   "name": "python",
   "nbconvert_exporter": "python",
   "pygments_lexer": "ipython3",
   "version": "3.11.6"
  }
 },
 "nbformat": 4,
 "nbformat_minor": 2
}
