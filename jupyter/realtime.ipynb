{
 "cells": [
  {
   "cell_type": "code",
   "execution_count": 2,
   "metadata": {},
   "outputs": [],
   "source": [
    "import frappe\n",
    "\n",
    "frappe.init(site='development.localhost', sites_path='/workspace/development/frappe-bench/sites')\n",
    "frappe.connect()\n",
    "frappe.local.lang = frappe.db.get_default('lang')\n",
    "frappe.db.connect()"
   ]
  },
  {
   "cell_type": "code",
   "execution_count": 3,
   "metadata": {},
   "outputs": [],
   "source": [
    "import time\n",
    "\n",
    "for i in range(101):\n",
    "    frappe.publish_realtime(\n",
    "        'vtigercrm_sync_refresh',\n",
    "        {\n",
    "            'percentage': i,\n",
    "            'vtigercrm_sync': 'doc_name'\n",
    "        }\n",
    "    )\n",
    "    time.sleep(0.1)"
   ]
  }
 ],
 "metadata": {
  "kernelspec": {
   "display_name": "env",
   "language": "python",
   "name": "python3"
  },
  "language_info": {
   "codemirror_mode": {
    "name": "ipython",
    "version": 3
   },
   "file_extension": ".py",
   "mimetype": "text/x-python",
   "name": "python",
   "nbconvert_exporter": "python",
   "pygments_lexer": "ipython3",
   "version": "3.11.6"
  }
 },
 "nbformat": 4,
 "nbformat_minor": 2
}
